{
 "cells": [
  {
   "cell_type": "code",
   "execution_count": null,
   "source": [
    "import pyaudio\r\n",
    "import struct\r\n",
    "\r\n",
    "import numpy as np\r\n",
    "import matplotlib.pyplot as plt\r\n",
    "\r\n",
    "%matplotlib tk\r\n",
    "\r\n",
    "CHUNK = 1024 * 4\r\n",
    "FORMAT = pyaudio.paInt16\r\n",
    "CHANNELS = 1\r\n",
    "RATE = 44100"
   ],
   "outputs": [],
   "metadata": {}
  },
  {
   "cell_type": "code",
   "execution_count": null,
   "source": [
    "p = pyaudio.PyAudio()\r\n",
    "\r\n",
    "stream = p.open(\r\n",
    "    format=FORMAT,\r\n",
    "    channels=CHANNELS,\r\n",
    "    rate=RATE,\r\n",
    "    input=True,\r\n",
    "    output=True,\r\n",
    "    frames_per_buffer=CHUNK\r\n",
    ")\r\n",
    "\r\n",
    "data = stream.read(CHUNK)\r\n",
    "data_int = struct.unpack(str(2 * CHUNK) + 'B', data)\r\n",
    "data_int"
   ],
   "outputs": [],
   "metadata": {}
  },
  {
   "cell_type": "code",
   "execution_count": null,
   "source": [],
   "outputs": [],
   "metadata": {}
  },
  {
   "cell_type": "markdown",
   "source": [
    "## Package: playsound"
   ],
   "metadata": {}
  },
  {
   "cell_type": "code",
   "execution_count": null,
   "source": [
    "from playsound import playsound\r\n",
    "\r\n",
    "playsound('.\\\\samples\\\\263133__pan14__tone-beep.wav')"
   ],
   "outputs": [],
   "metadata": {}
  },
  {
   "cell_type": "markdown",
   "source": [
    "## Package: simpleaudio"
   ],
   "metadata": {}
  },
  {
   "cell_type": "code",
   "execution_count": null,
   "source": [
    "import simpleaudio.functionchecks as fc\r\n",
    "\r\n",
    "fc.LeftRightCheck.run()"
   ],
   "outputs": [],
   "metadata": {}
  },
  {
   "cell_type": "code",
   "execution_count": null,
   "source": [
    "import simpleaudio as sa\r\n",
    "\r\n",
    "wave_obj = sa.WaveObject.from_wave_file('.\\\\samples\\\\263133__pan14__tone-beep.wav')\r\n",
    "play_obj = wave_obj.play()\r\n",
    "play_obj.wait_done() # wait until is sound is played completely"
   ],
   "outputs": [],
   "metadata": {}
  },
  {
   "cell_type": "code",
   "execution_count": null,
   "source": [
    "import numpy as np\r\n",
    "import simpleaudio as sa\r\n",
    "\r\n",
    "frequency = 440 # 440 Hz\r\n",
    "fs = 44100 # samples per second\r\n",
    "seconds = 3\r\n"
   ],
   "outputs": [],
   "metadata": {}
  },
  {
   "cell_type": "markdown",
   "source": [
    "## Package: winsound"
   ],
   "metadata": {}
  },
  {
   "cell_type": "code",
   "execution_count": null,
   "source": [
    "import winsound\r\n",
    "\r\n",
    "winsound.PlaySound('.\\\\samples\\\\263133__pan14__tone-beep.wav', winsound.SND_FILENAME)"
   ],
   "outputs": [],
   "metadata": {}
  },
  {
   "cell_type": "code",
   "execution_count": null,
   "source": [
    "winsound.Beep(400, 100)  # Beep at 1000 Hz for 100 ms"
   ],
   "outputs": [],
   "metadata": {}
  },
  {
   "cell_type": "markdown",
   "source": [
    "## Package: sounddevice"
   ],
   "metadata": {}
  },
  {
   "cell_type": "code",
   "execution_count": null,
   "source": [
    "import sounddevice as sd\r\n",
    "from scipy.io.wavfile import write\r\n",
    "\r\n",
    "\r\n",
    "fs = 44100 # sample rate\r\n",
    "seconds = 3 # Duration of recording\r\n",
    "\r\n",
    "my_recording = sd.rec(int(seconds * fs), samplerate=fs, channels=1)\r\n",
    "sd.wait() # waiting for recording to finish\r\n",
    "write('.\\\\output\\\\sd_test.wav', fs, my_recording) # save as wav file"
   ],
   "outputs": [],
   "metadata": {}
  },
  {
   "cell_type": "code",
   "execution_count": 57,
   "source": [
    "import matplotlib.pyplot as plt\r\n",
    "import numpy as np\r\n",
    "import wave\r\n",
    "import sys\r\n",
    "\r\n",
    "\r\n",
    "spf = wave.open('.\\\\samples\\\\263133__pan14__tone-beep.wav', \"r\")\r\n",
    "\r\n",
    "# Extract raw audio from wav file\r\n",
    "signal = spf.readframes(-1)\r\n",
    "np_signal = np.fromstring(signal, dtype=np.int16)\r\n",
    "\r\n",
    "# Handle Stereo file\r\n",
    "if spf.getnchannels() == 2:\r\n",
    "    print(\"Just mono files\")\r\n",
    "    \r\n",
    "# plt.figure(1)\r\n",
    "plt.plot(np_signal)\r\n",
    "plt.show()\r\n"
   ],
   "outputs": [
    {
     "output_type": "stream",
     "name": "stderr",
     "text": [
      "<ipython-input-57-abf62f9a360a>:11: DeprecationWarning: The binary mode of fromstring is deprecated, as it behaves surprisingly on unicode inputs. Use frombuffer instead\n",
      "  np_signal = np.fromstring(signal, dtype=np.int16)\n"
     ]
    },
    {
     "output_type": "stream",
     "name": "stdout",
     "text": [
      "Just mono files\n"
     ]
    }
   ],
   "metadata": {}
  },
  {
   "cell_type": "code",
   "execution_count": null,
   "source": [],
   "outputs": [],
   "metadata": {}
  }
 ],
 "metadata": {
  "orig_nbformat": 4,
  "language_info": {
   "name": "python",
   "version": "3.8.10",
   "mimetype": "text/x-python",
   "codemirror_mode": {
    "name": "ipython",
    "version": 3
   },
   "pygments_lexer": "ipython3",
   "nbconvert_exporter": "python",
   "file_extension": ".py"
  },
  "kernelspec": {
   "name": "python3",
   "display_name": "Python 3.8.10 64-bit ('audio_venv': conda)"
  },
  "interpreter": {
   "hash": "1f88dbcb9edf0e3800432629261f34c2bcc6560b94cd42daa14287f743c82376"
  }
 },
 "nbformat": 4,
 "nbformat_minor": 2
}